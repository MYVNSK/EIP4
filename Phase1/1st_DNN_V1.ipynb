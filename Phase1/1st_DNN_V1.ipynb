{
 "cells": [
  {
   "cell_type": "markdown",
   "metadata": {
    "colab_type": "text",
    "id": "aNyZv-Ec52ot"
   },
   "source": [
    "# **Import Libraries and modules**"
   ]
  },
  {
   "cell_type": "code",
   "execution_count": 1,
   "metadata": {
    "colab": {
     "base_uri": "https://localhost:8080/",
     "height": 83
    },
    "colab_type": "code",
    "id": "3m3w1Cw49Zkt",
    "outputId": "92c52118-539a-47bf-824e-5f3ef1ccc6e6"
   },
   "outputs": [
    {
     "name": "stderr",
     "output_type": "stream",
     "text": [
      "You are using pip version 18.1, however version 19.3.1 is available.\n",
      "You should consider upgrading via the 'python -m pip install --upgrade pip' command.\n",
      "C:\\Users\\MYVNSandeepKumar\\Anaconda3\\lib\\site-packages\\h5py\\__init__.py:36: FutureWarning: Conversion of the second argument of issubdtype from `float` to `np.floating` is deprecated. In future, it will be treated as `np.float64 == np.dtype(float).type`.\n",
      "  from ._conv import register_converters as _register_converters\n",
      "Using TensorFlow backend.\n"
     ]
    }
   ],
   "source": [
    "# https://keras.io/\n",
    "!pip install -q keras\n",
    "import keras"
   ]
  },
  {
   "cell_type": "code",
   "execution_count": 2,
   "metadata": {
    "colab": {},
    "colab_type": "code",
    "id": "Eso6UHE080D4"
   },
   "outputs": [],
   "source": [
    "import numpy as np\n",
    "\n",
    "from keras.models import Sequential\n",
    "from keras.layers import Dense, Dropout, Activation, Flatten, Add\n",
    "from keras.layers import Convolution2D, MaxPooling2D\n",
    "from keras.utils import np_utils\n",
    "\n",
    "from keras.datasets import mnist"
   ]
  },
  {
   "cell_type": "markdown",
   "metadata": {
    "colab_type": "text",
    "id": "zByEi95J86RD"
   },
   "source": [
    "### Load pre-shuffled MNIST data into train and test sets"
   ]
  },
  {
   "cell_type": "code",
   "execution_count": 24,
   "metadata": {
    "colab": {
     "base_uri": "https://localhost:8080/",
     "height": 53
    },
    "colab_type": "code",
    "id": "7eRM0QWN83PV",
    "outputId": "a02e8b2c-acd0-4622-c768-6a1888ce2d2f"
   },
   "outputs": [],
   "source": [
    "(X_train, y_train), (X_test, y_test) = mnist.load_data()"
   ]
  },
  {
   "cell_type": "code",
   "execution_count": 26,
   "metadata": {
    "colab": {
     "base_uri": "https://localhost:8080/",
     "height": 301
    },
    "colab_type": "code",
    "id": "4a4Be72j8-ZC",
    "outputId": "6f59f11d-eaea-4961-de56-0eeb9af80b4e"
   },
   "outputs": [
    {
     "name": "stdout",
     "output_type": "stream",
     "text": [
      "(60000, 28, 28)\n"
     ]
    },
    {
     "data": {
      "text/plain": [
       "<matplotlib.image.AxesImage at 0x242c81d20f0>"
      ]
     },
     "execution_count": 26,
     "metadata": {},
     "output_type": "execute_result"
    },
    {
     "data": {
      "image/png": "[encoded data removed]",
      "text/plain": [
       "<matplotlib.figure.Figure at 0x242ddb11b00>"
      ]
     },
     "metadata": {},
     "output_type": "display_data"
    }
   ],
   "source": [
    "print (X_train.shape)\n",
    "from matplotlib import pyplot as plt\n",
    "%matplotlib inline\n",
    "plt.imshow(X_train[59999])"
   ]
  },
  {
   "cell_type": "code",
   "execution_count": 5,
   "metadata": {
    "colab": {},
    "colab_type": "code",
    "id": "dkmprriw9AnZ"
   },
   "outputs": [],
   "source": [
    "X_train = X_train.reshape(X_train.shape[0], 28, 28,1)\n",
    "X_test = X_test.reshape(X_test.shape[0], 28, 28,1)"
   ]
  },
  {
   "cell_type": "code",
   "execution_count": 6,
   "metadata": {
    "colab": {},
    "colab_type": "code",
    "id": "X2m4YS4E9CRh"
   },
   "outputs": [],
   "source": [
    "X_train = X_train.astype('float32')\n",
    "X_test = X_test.astype('float32')\n",
    "X_train /= 255\n",
    "X_test /= 255"
   ]
  },
  {
   "cell_type": "code",
   "execution_count": 7,
   "metadata": {
    "colab": {
     "base_uri": "https://localhost:8080/",
     "height": 35
    },
    "colab_type": "code",
    "id": "0Mn0vAYD9DvB",
    "outputId": "4abdfbf2-99be-48b0-b694-bfcee798834c"
   },
   "outputs": [
    {
     "data": {
      "text/plain": [
       "array([5, 0, 4, 1, 9, 2, 1, 3, 1, 4], dtype=uint8)"
      ]
     },
     "execution_count": 7,
     "metadata": {},
     "output_type": "execute_result"
    }
   ],
   "source": [
    "y_train[:10]"
   ]
  },
  {
   "cell_type": "code",
   "execution_count": 8,
   "metadata": {
    "colab": {},
    "colab_type": "code",
    "id": "ZG8JiXR39FHC"
   },
   "outputs": [],
   "source": [
    "# Convert 1-dimensional class arrays to 10-dimensional class matrices\n",
    "Y_train = np_utils.to_categorical(y_train, 10)\n",
    "Y_test = np_utils.to_categorical(y_test, 10)"
   ]
  },
  {
   "cell_type": "code",
   "execution_count": 9,
   "metadata": {
    "colab": {
     "base_uri": "https://localhost:8080/",
     "height": 199
    },
    "colab_type": "code",
    "id": "fYlFRvKS9HMB",
    "outputId": "841551a6-0764-4fe7-9631-5ef4c5b13277"
   },
   "outputs": [
    {
     "data": {
      "text/plain": [
       "array([[0., 0., 0., 0., 0., 1., 0., 0., 0., 0.],\n",
       "       [1., 0., 0., 0., 0., 0., 0., 0., 0., 0.],\n",
       "       [0., 0., 0., 0., 1., 0., 0., 0., 0., 0.],\n",
       "       [0., 1., 0., 0., 0., 0., 0., 0., 0., 0.],\n",
       "       [0., 0., 0., 0., 0., 0., 0., 0., 0., 1.],\n",
       "       [0., 0., 1., 0., 0., 0., 0., 0., 0., 0.],\n",
       "       [0., 1., 0., 0., 0., 0., 0., 0., 0., 0.],\n",
       "       [0., 0., 0., 1., 0., 0., 0., 0., 0., 0.],\n",
       "       [0., 1., 0., 0., 0., 0., 0., 0., 0., 0.],\n",
       "       [0., 0., 0., 0., 1., 0., 0., 0., 0., 0.]])"
      ]
     },
     "execution_count": 9,
     "metadata": {},
     "output_type": "execute_result"
    }
   ],
   "source": [
    "Y_train[:10]\n"
   ]
  },
  {
   "cell_type": "code",
   "execution_count": 10,
   "metadata": {},
   "outputs": [
    {
     "name": "stderr",
     "output_type": "stream",
     "text": [
      "C:\\Users\\MYVNSandeepKumar\\Anaconda3\\lib\\site-packages\\ipykernel_launcher.py:3: UserWarning: Update your `Conv2D` call to the Keras 2 API: `Conv2D(32, (3, 3), activation=\"relu\", input_shape=(28, 28, 1...)`\n",
      "  This is separate from the ipykernel package so we can avoid doing imports until\n",
      "C:\\Users\\MYVNSandeepKumar\\Anaconda3\\lib\\site-packages\\ipykernel_launcher.py:4: UserWarning: Update your `Conv2D` call to the Keras 2 API: `Conv2D(32, (3, 3), activation=\"relu\")`\n",
      "  after removing the cwd from sys.path.\n",
      "C:\\Users\\MYVNSandeepKumar\\Anaconda3\\lib\\site-packages\\ipykernel_launcher.py:6: UserWarning: Update your `Conv2D` call to the Keras 2 API: `Conv2D(64, (3, 3), activation=\"relu\")`\n",
      "  \n",
      "C:\\Users\\MYVNSandeepKumar\\Anaconda3\\lib\\site-packages\\ipykernel_launcher.py:7: UserWarning: Update your `Conv2D` call to the Keras 2 API: `Conv2D(64, (3, 3), activation=\"relu\")`\n",
      "  import sys\n"
     ]
    }
   ],
   "source": [
    "from keras.layers import Activation\n",
    "model = Sequential()\n",
    "model.add(Convolution2D(32,3,3,activation ='relu', input_shape = (28,28,1)))\n",
    "model.add(Convolution2D(32,3,3,activation ='relu'))\n",
    "model.add(MaxPooling2D(pool_size=(2,2)))\n",
    "model.add(Convolution2D(64,3,3,activation ='relu'))\n",
    "model.add(Convolution2D(64,3,3,activation ='relu'))\n",
    "model.add(MaxPooling2D(pool_size=(2,2)))\n",
    "model.add(Convolution2D(10, 1, activation='relu')) #5*5*10\n",
    "model.add(Convolution2D(10, 4))\n",
    "model.add(Flatten())\n",
    "model.add(Activation('softmax'))"
   ]
  },
  {
   "cell_type": "code",
   "execution_count": 11,
   "metadata": {
    "colab": {
     "base_uri": "https://localhost:8080/",
     "height": 526
    },
    "colab_type": "code",
    "id": "TzdAYg1k9K7Z",
    "outputId": "bb60f1fe-7f5e-4387-fffd-c5569180e391"
   },
   "outputs": [
    {
     "name": "stdout",
     "output_type": "stream",
     "text": [
      "_________________________________________________________________\n",
      "Layer (type)                 Output Shape              Param #   \n",
      "=================================================================\n",
      "conv2d_1 (Conv2D)            (None, 26, 26, 32)        320       \n",
      "_________________________________________________________________\n",
      "conv2d_2 (Conv2D)            (None, 24, 24, 32)        9248      \n",
      "_________________________________________________________________\n",
      "max_pooling2d_1 (MaxPooling2 (None, 12, 12, 32)        0         \n",
      "_________________________________________________________________\n",
      "conv2d_3 (Conv2D)            (None, 10, 10, 64)        18496     \n",
      "_________________________________________________________________\n",
      "conv2d_4 (Conv2D)            (None, 8, 8, 64)          36928     \n",
      "_________________________________________________________________\n",
      "max_pooling2d_2 (MaxPooling2 (None, 4, 4, 64)          0         \n",
      "_________________________________________________________________\n",
      "conv2d_5 (Conv2D)            (None, 4, 4, 10)          650       \n",
      "_________________________________________________________________\n",
      "conv2d_6 (Conv2D)            (None, 1, 1, 10)          1610      \n",
      "_________________________________________________________________\n",
      "flatten_1 (Flatten)          (None, 10)                0         \n",
      "_________________________________________________________________\n",
      "activation_1 (Activation)    (None, 10)                0         \n",
      "=================================================================\n",
      "Total params: 67,252\n",
      "Trainable params: 67,252\n",
      "Non-trainable params: 0\n",
      "_________________________________________________________________\n"
     ]
    }
   ],
   "source": [
    "model.summary()"
   ]
  },
  {
   "cell_type": "code",
   "execution_count": 12,
   "metadata": {
    "colab": {
     "base_uri": "https://localhost:8080/",
     "height": 110
    },
    "colab_type": "code",
    "id": "Zp6SuGrL9M3h",
    "outputId": "869c493a-3293-4aa4-d7b4-04c00ebd9e19"
   },
   "outputs": [],
   "source": [
    "model.compile(loss='categorical_crossentropy',\n",
    "             optimizer='adam',\n",
    "             metrics=['accuracy'])"
   ]
  },
  {
   "cell_type": "code",
   "execution_count": 13,
   "metadata": {
    "colab": {
     "base_uri": "https://localhost:8080/",
     "height": 1000
    },
    "colab_type": "code",
    "id": "4xWoKhPY9Of5",
    "outputId": "6ecd2021-cc93-4f36-b091-9c5cc0ceeea0",
    "scrolled": true
   },
   "outputs": [
    {
     "name": "stderr",
     "output_type": "stream",
     "text": [
      "C:\\Users\\MYVNSandeepKumar\\Anaconda3\\lib\\site-packages\\keras\\models.py:942: UserWarning: The `nb_epoch` argument in `fit` has been renamed `epochs`.\n",
      "  warnings.warn('The `nb_epoch` argument in `fit` '\n"
     ]
    },
    {
     "name": "stdout",
     "output_type": "stream",
     "text": [
      "Epoch 1/20\n",
      "60000/60000 [==============================] - 190s 3ms/step - loss: 0.2992 - acc: 0.9060\n",
      "Epoch 2/20\n",
      "60000/60000 [==============================] - 198s 3ms/step - loss: 0.0713 - acc: 0.9774\n",
      "Epoch 3/20\n",
      "60000/60000 [==============================] - 197s 3ms/step - loss: 0.0493 - acc: 0.9851\n",
      "Epoch 4/20\n",
      "60000/60000 [==============================] - 198s 3ms/step - loss: 0.0386 - acc: 0.9885\n",
      "Epoch 5/20\n",
      "60000/60000 [==============================] - 198s 3ms/step - loss: 0.0323 - acc: 0.9902\n",
      "Epoch 6/20\n",
      "60000/60000 [==============================] - 196s 3ms/step - loss: 0.0284 - acc: 0.9910\n",
      "Epoch 7/20\n",
      "60000/60000 [==============================] - 196s 3ms/step - loss: 0.0246 - acc: 0.9925\n",
      "Epoch 8/20\n",
      "60000/60000 [==============================] - 194s 3ms/step - loss: 0.0212 - acc: 0.9931\n",
      "Epoch 9/20\n",
      "60000/60000 [==============================] - 200s 3ms/step - loss: 0.0189 - acc: 0.9937\n",
      "Epoch 10/20\n",
      "60000/60000 [==============================] - 197s 3ms/step - loss: 0.0164 - acc: 0.9945\n",
      "Epoch 11/20\n",
      "60000/60000 [==============================] - 223s 4ms/step - loss: 0.0145 - acc: 0.9952\n",
      "Epoch 12/20\n",
      "60000/60000 [==============================] - 211s 4ms/step - loss: 0.0129 - acc: 0.9959\n",
      "Epoch 13/20\n",
      "60000/60000 [==============================] - 206s 3ms/step - loss: 0.0109 - acc: 0.9964\n",
      "Epoch 14/20\n",
      "60000/60000 [==============================] - 214s 4ms/step - loss: 0.0102 - acc: 0.9965\n",
      "Epoch 15/20\n",
      "60000/60000 [==============================] - 208s 3ms/step - loss: 0.0092 - acc: 0.9969\n",
      "Epoch 16/20\n",
      "60000/60000 [==============================] - 213s 4ms/step - loss: 0.0092 - acc: 0.9971\n",
      "Epoch 17/20\n",
      "60000/60000 [==============================] - 219s 4ms/step - loss: 0.0084 - acc: 0.9971\n",
      "Epoch 18/20\n",
      "60000/60000 [==============================] - 222s 4ms/step - loss: 0.0074 - acc: 0.9975\n",
      "Epoch 19/20\n",
      "60000/60000 [==============================] - 191s 3ms/step - loss: 0.0073 - acc: 0.9974\n",
      "Epoch 20/20\n",
      "60000/60000 [==============================] - 195s 3ms/step - loss: 0.0056 - acc: 0.9979\n"
     ]
    },
    {
     "data": {
      "text/plain": [
       "<keras.callbacks.History at 0x242c376f710>"
      ]
     },
     "execution_count": 13,
     "metadata": {},
     "output_type": "execute_result"
    }
   ],
   "source": [
    "model.fit(X_train, Y_train, batch_size=128, nb_epoch=20, verbose=1)"
   ]
  },
  {
   "cell_type": "code",
   "execution_count": 14,
   "metadata": {
    "colab": {},
    "colab_type": "code",
    "id": "AtsH-lLk-eLb",
    "scrolled": true
   },
   "outputs": [],
   "source": [
    "score = model.evaluate(X_test, Y_test, verbose=0)"
   ]
  },
  {
   "cell_type": "code",
   "execution_count": 15,
   "metadata": {
    "colab": {
     "base_uri": "https://localhost:8080/",
     "height": 35
    },
    "colab_type": "code",
    "id": "mkX8JMv79q9r",
    "outputId": "00285342-7a47-4836-eff6-60974e43d65f"
   },
   "outputs": [
    {
     "name": "stdout",
     "output_type": "stream",
     "text": [
      "[0.04119752720832262, 0.9911]\n"
     ]
    }
   ],
   "source": [
    "print(score)"
   ]
  },
  {
   "cell_type": "code",
   "execution_count": 16,
   "metadata": {
    "colab": {},
    "colab_type": "code",
    "id": "OCWoJkwE9suh"
   },
   "outputs": [],
   "source": [
    "y_pred = model.predict(X_test)"
   ]
  },
  {
   "cell_type": "code",
   "execution_count": 17,
   "metadata": {
    "colab": {
     "base_uri": "https://localhost:8080/",
     "height": 526
    },
    "colab_type": "code",
    "id": "Ym7iCFBm9uBs",
    "outputId": "f18b311b-d059-4a48-a1ea-b30d891162f4"
   },
   "outputs": [
    {
     "name": "stdout",
     "output_type": "stream",
     "text": [
      "[[1.29709647e-22 1.70446667e-16 8.97210881e-18 4.73227347e-14\n",
      "  6.48141570e-29 2.49991510e-21 3.03817005e-38 1.00000000e+00\n",
      "  1.97014010e-22 1.44448933e-15]\n",
      " [2.07461007e-10 4.86644558e-10 1.00000000e+00 1.35264778e-13\n",
      "  1.16970486e-19 2.27403001e-20 1.90933207e-11 7.75658973e-21\n",
      "  1.57212776e-09 6.79592268e-26]\n",
      " [4.72373460e-11 9.99998689e-01 2.24936347e-10 2.27623495e-17\n",
      "  2.62908650e-09 2.30232691e-11 4.84308357e-11 1.25630470e-06\n",
      "  9.31520226e-12 9.14032825e-12]\n",
      " [1.00000000e+00 3.04362988e-18 1.11741640e-11 7.61737722e-18\n",
      "  9.11304674e-19 5.76220929e-13 1.31343603e-10 2.23802524e-18\n",
      "  3.79502541e-14 2.57004175e-11]\n",
      " [3.53725089e-21 1.93409955e-09 4.55623046e-16 3.90056553e-19\n",
      "  9.99997616e-01 3.37839769e-14 9.65773685e-14 4.91360594e-15\n",
      "  6.07555943e-13 2.39018232e-06]\n",
      " [8.38446500e-12 9.99996305e-01 1.10806385e-10 3.26780415e-19\n",
      "  4.07503734e-07 3.99638628e-13 2.61610698e-11 3.37477127e-06\n",
      "  2.21661387e-11 4.76099889e-11]\n",
      " [4.26741078e-31 5.03393949e-08 1.37589457e-13 1.33366620e-18\n",
      "  9.99999881e-01 6.05117761e-11 6.23780333e-21 5.24053240e-12\n",
      "  3.68677266e-09 8.40080858e-08]\n",
      " [1.36739129e-14 5.06213832e-13 5.36311495e-10 5.68492085e-12\n",
      "  3.73711266e-08 5.58930715e-08 2.06794740e-19 2.89610539e-13\n",
      "  1.68784471e-08 9.99999881e-01]\n",
      " [1.80657475e-12 8.26397214e-21 1.02261466e-14 6.37681809e-15\n",
      "  5.11190923e-23 9.99996662e-01 3.28840088e-06 8.77333979e-18\n",
      "  2.91046209e-08 6.11458600e-15]]\n",
      "[7 2 1 0 4 1 4 9 5]\n"
     ]
    }
   ],
   "source": [
    "print(y_pred[:9])\n",
    "print(y_test[:9])"
   ]
  },
  {
   "cell_type": "code",
   "execution_count": 18,
   "metadata": {
    "colab": {
     "base_uri": "https://localhost:8080/",
     "height": 199
    },
    "colab_type": "code",
    "id": "CT--y98_dr2T",
    "outputId": "5e1fbcee-f839-4b56-8ff2-14919e776715"
   },
   "outputs": [
    {
     "data": {
      "text/plain": [
       "{'activation_1': <keras.layers.core.Activation at 0x242c385c550>,\n",
       " 'conv2d_1': <keras.layers.convolutional.Conv2D at 0x242c3793710>,\n",
       " 'conv2d_2': <keras.layers.convolutional.Conv2D at 0x242c3793358>,\n",
       " 'conv2d_3': <keras.layers.convolutional.Conv2D at 0x242c3776978>,\n",
       " 'conv2d_4': <keras.layers.convolutional.Conv2D at 0x242c37a6320>,\n",
       " 'conv2d_5': <keras.layers.convolutional.Conv2D at 0x242ccbf1470>,\n",
       " 'conv2d_6': <keras.layers.convolutional.Conv2D at 0x242c3836a90>,\n",
       " 'flatten_1': <keras.layers.core.Flatten at 0x242c38486a0>,\n",
       " 'max_pooling2d_1': <keras.layers.pooling.MaxPooling2D at 0x242c3776cc0>,\n",
       " 'max_pooling2d_2': <keras.layers.pooling.MaxPooling2D at 0x242c37fd710>}"
      ]
     },
     "execution_count": 18,
     "metadata": {},
     "output_type": "execute_result"
    }
   ],
   "source": [
    "layer_dict = dict([(layer.name, layer) for layer in model.layers])\n",
    "layer_dict"
   ]
  },
  {
   "cell_type": "code",
   "execution_count": 20,
   "metadata": {
    "colab": {
     "base_uri": "https://localhost:8080/",
     "height": 868
    },
    "colab_type": "code",
    "id": "2GY4Upv4dsUR",
    "outputId": "85c3b7fe-e6fa-4a34-c37e-dd54e5fcf1a1"
   },
   "outputs": [
    {
     "data": {
      "image/png": "[encoded data removed]",
      "text/plain": [
       "<matplotlib.figure.Figure at 0x242cc419a90>"
      ]
     },
     "metadata": {},
     "output_type": "display_data"
    }
   ],
   "source": [
    "import numpy as np\n",
    "from matplotlib import pyplot as plt\n",
    "from keras import backend as K\n",
    "%matplotlib inline\n",
    "# util function to convert a tensor into a valid image\n",
    "def deprocess_image(x):\n",
    "    # normalize tensor: center on 0., ensure std is 0.1\n",
    "    x -= x.mean()\n",
    "    x /= (x.std() + 1e-5)\n",
    "    x *= 0.1\n",
    "\n",
    "    # clip to [0, 1]\n",
    "    x += 0.5\n",
    "    x = np.clip(x, 0, 1)\n",
    "\n",
    "    # convert to RGB array\n",
    "    x *= 255\n",
    "    #x = x.transpose((1, 2, 0))\n",
    "    x = np.clip(x, 0, 255).astype('uint8')\n",
    "    return x\n",
    "\n",
    "def vis_img_in_filter(img = np.array(X_train[2]).reshape((1, 28, 28, 1)).astype(np.float64), \n",
    "                      layer_name = 'conv2d_1'):\n",
    "    layer_output = layer_dict[layer_name].output\n",
    "    img_ascs = list()\n",
    "    for filter_index in range(layer_output.shape[3]):\n",
    "        # build a loss function that maximizes the activation\n",
    "        # of the nth filter of the layer considered\n",
    "        loss = K.mean(layer_output[:, :, :, filter_index])\n",
    "\n",
    "        # compute the gradient of the input picture wrt this loss\n",
    "        grads = K.gradients(loss, model.input)[0]\n",
    "\n",
    "        # normalization trick: we normalize the gradient\n",
    "        grads /= (K.sqrt(K.mean(K.square(grads))) + 1e-5)\n",
    "\n",
    "        # this function returns the loss and grads given the input picture\n",
    "        iterate = K.function([model.input], [loss, grads])\n",
    "\n",
    "        # step size for gradient ascent\n",
    "        step = 5.\n",
    "\n",
    "        img_asc = np.array(img)\n",
    "        # run gradient ascent for 20 steps\n",
    "        for i in range(20):\n",
    "            loss_value, grads_value = iterate([img_asc])\n",
    "            img_asc += grads_value * step\n",
    "\n",
    "        img_asc = img_asc[0]\n",
    "        img_ascs.append(deprocess_image(img_asc).reshape((28, 28)))\n",
    "        \n",
    "    if layer_output.shape[3] >= 35:\n",
    "        plot_x, plot_y = 6, 6\n",
    "    elif layer_output.shape[3] >= 23:\n",
    "        plot_x, plot_y = 4, 6\n",
    "    elif layer_output.shape[3] >= 11:\n",
    "        plot_x, plot_y = 2, 6\n",
    "    else:\n",
    "        plot_x, plot_y = 1, 2\n",
    "    fig, ax = plt.subplots(plot_x, plot_y, figsize = (12, 12))\n",
    "    ax[0, 0].imshow(img.reshape((28, 28)), cmap = 'gray')\n",
    "    ax[0, 0].set_title('Input image')\n",
    "    fig.suptitle('Input image and %s filters' % (layer_name,))\n",
    "    fig.tight_layout(pad = 0.3, rect = [0, 0, 0.9, 0.9])\n",
    "    for (x, y) in [(i, j) for i in range(plot_x) for j in range(plot_y)]:\n",
    "        if x == 0 and y == 0:\n",
    "            continue\n",
    "        ax[x, y].imshow(img_ascs[x * plot_y + y - 1], cmap = 'gray')\n",
    "        ax[x, y].set_title('filter %d' % (x * plot_y + y - 1))\n",
    "\n",
    "vis_img_in_filter()"
   ]
  },
  {
   "cell_type": "code",
   "execution_count": null,
   "metadata": {
    "colab": {},
    "colab_type": "code",
    "id": "9tvptcn8dxvp"
   },
   "outputs": [],
   "source": []
  }
 ],
 "metadata": {
  "accelerator": "GPU",
  "colab": {
   "collapsed_sections": [],
   "name": "1st DNN.ipynb",
   "provenance": []
  },
  "kernelspec": {
   "display_name": "Python 3",
   "language": "python",
   "name": "python3"
  },
  "language_info": {
   "codemirror_mode": {
    "name": "ipython",
    "version": 3
   },
   "file_extension": ".py",
   "mimetype": "text/x-python",
   "name": "python",
   "nbconvert_exporter": "python",
   "pygments_lexer": "ipython3",
   "version": "3.6.4"
  }
 },
 "nbformat": 4,
 "nbformat_minor": 1
}
